{
  "nbformat": 4,
  "nbformat_minor": 0,
  "metadata": {
    "colab": {
      "provenance": [],
      "authorship_tag": "ABX9TyO31n/VyUdHiJ/ryh2by3Uu",
      "include_colab_link": true
    },
    "kernelspec": {
      "name": "python3",
      "display_name": "Python 3"
    },
    "language_info": {
      "name": "python"
    }
  },
  "cells": [
    {
      "cell_type": "markdown",
      "metadata": {
        "id": "view-in-github",
        "colab_type": "text"
      },
      "source": [
        "<a href=\"https://colab.research.google.com/github/Sowmya-2348562/Advanced-Data-Analytics/blob/main/2348562_Text_Preprocessing.ipynb\" target=\"_parent\"><img src=\"https://colab.research.google.com/assets/colab-badge.svg\" alt=\"Open In Colab\"/></a>"
      ]
    },
    {
      "cell_type": "code",
      "execution_count": null,
      "metadata": {
        "colab": {
          "base_uri": "https://localhost:8080/"
        },
        "id": "CyhZOXQ2i1E7",
        "outputId": "a8160f6b-4408-46ad-9a9d-b71ecccda04b"
      },
      "outputs": [
        {
          "output_type": "stream",
          "name": "stderr",
          "text": [
            "[nltk_data] Downloading package punkt to /root/nltk_data...\n",
            "[nltk_data]   Unzipping tokenizers/punkt.zip.\n"
          ]
        },
        {
          "output_type": "execute_result",
          "data": {
            "text/plain": [
              "True"
            ]
          },
          "metadata": {},
          "execution_count": 6
        }
      ],
      "source": [
        "import nltk\n",
        "nltk.download('punkt')"
      ]
    },
    {
      "cell_type": "code",
      "source": [
        "paragraph=  \"Hey there! 😃 I can't believe it's already 2024. Did you see John's new blog post? Check it out at https://example.com/blog! Also, email me at john.doe@example.com. He mentioned something about stemming and lemmatization—interesting stuff. BTW, I'll be attending the AI conference in N.Y.C. next month!! #Excited #AI 😊 Let's catch up soon. Cheers, John.\"\n"
      ],
      "metadata": {
        "id": "hxwYz9MljiZr"
      },
      "execution_count": null,
      "outputs": []
    },
    {
      "cell_type": "code",
      "source": [
        "from nltk.tokenize import sent_tokenize\n",
        "\n",
        "sent_tokens = sent_tokenize(paragraph)\n",
        "print(\"Sentence Tokenization:\", sent_tokens)"
      ],
      "metadata": {
        "colab": {
          "base_uri": "https://localhost:8080/"
        },
        "id": "4ijf1ouKkiR-",
        "outputId": "da1ecff1-1462-4d7b-e1f3-5f7993b0e581"
      },
      "execution_count": null,
      "outputs": [
        {
          "output_type": "stream",
          "name": "stdout",
          "text": [
            "Sentence Tokenization: ['Hey there!', \"😃 I can't believe it's already 2024.\", \"Did you see John's new blog post?\", 'Check it out at https://example.com/blog!', 'Also, email me at john.doe@example.com.', 'He mentioned something about stemming and lemmatization—interesting stuff.', \"BTW, I'll be attending the AI conference in N.Y.C.\", 'next month!!', \"#Excited #AI 😊 Let's catch up soon.\", 'Cheers, John.']\n"
          ]
        }
      ]
    },
    {
      "cell_type": "code",
      "source": [
        "from nltk.tokenize import word_tokenize\n",
        "# Tokenize the paragraph into words\n",
        "word_tokens = word_tokenize(paragraph)\n",
        "\n",
        "# Print the word tokens\n",
        "print(word_tokens)"
      ],
      "metadata": {
        "colab": {
          "base_uri": "https://localhost:8080/"
        },
        "id": "0TeRxfGYjlSR",
        "outputId": "57ff606b-b327-4a21-f240-241057e68894"
      },
      "execution_count": null,
      "outputs": [
        {
          "output_type": "stream",
          "name": "stdout",
          "text": [
            "['Hey', 'there', '!', '😃', 'I', 'ca', \"n't\", 'believe', 'it', \"'s\", 'already', '2024', '.', 'Did', 'you', 'see', 'John', \"'s\", 'new', 'blog', 'post', '?', 'Check', 'it', 'out', 'at', 'https', ':', '//example.com/blog', '!', 'Also', ',', 'email', 'me', 'at', 'john.doe', '@', 'example.com', '.', 'He', 'mentioned', 'something', 'about', 'stemming', 'and', 'lemmatization—interesting', 'stuff', '.', 'BTW', ',', 'I', \"'ll\", 'be', 'attending', 'the', 'AI', 'conference', 'in', 'N.Y.C', '.', 'next', 'month', '!', '!', '#', 'Excited', '#', 'AI', '😊', 'Let', \"'s\", 'catch', 'up', 'soon', '.', 'Cheers', ',', 'John', '.']\n"
          ]
        }
      ]
    },
    {
      "cell_type": "code",
      "source": [
        "from nltk.tokenize import TweetTokenizer\n",
        "\n",
        "tweet_tokenizer = TweetTokenizer()\n",
        "tweet_tokens = tweet_tokenizer.tokenize(paragraph)\n",
        "print(\"Tweet Tokenizer:\", tweet_tokens)\n"
      ],
      "metadata": {
        "colab": {
          "base_uri": "https://localhost:8080/"
        },
        "id": "6eQzOkvynCgX",
        "outputId": "1c15d3ba-1c07-4ae7-9774-457dbbac5b11"
      },
      "execution_count": null,
      "outputs": [
        {
          "output_type": "stream",
          "name": "stdout",
          "text": [
            "Tweet Tokenizer: ['Hey', 'there', '!', '😃', 'I', \"can't\", 'believe', \"it's\", 'already', '2024', '.', 'Did', 'you', 'see', \"John's\", 'new', 'blog', 'post', '?', 'Check', 'it', 'out', 'at', 'https://example.com/blog', '!', 'Also', ',', 'email', 'me', 'at', 'john.doe@example.com', '.', 'He', 'mentioned', 'something', 'about', 'stemming', 'and', 'lemmatization', '—', 'interesting', 'stuff', '.', 'BTW', ',', \"I'll\", 'be', 'attending', 'the', 'AI', 'conference', 'in', 'N', '.', 'Y', '.', 'C', '.', 'next', 'month', '!', '!', '#Excited', '#AI', '😊', \"Let's\", 'catch', 'up', 'soon', '.', 'Cheers', ',', 'John', '.']\n"
          ]
        }
      ]
    },
    {
      "cell_type": "code",
      "source": [
        "from nltk.tokenize import WordPunctTokenizer\n",
        "\n",
        "punct_tokenizer = WordPunctTokenizer()\n",
        "punct_tokens = punct_tokenizer.tokenize(paragraph)\n",
        "print(\"Punctuation-based Tokenizer:\", punct_tokens)\n"
      ],
      "metadata": {
        "colab": {
          "base_uri": "https://localhost:8080/"
        },
        "id": "oy7vOFqnjl3I",
        "outputId": "4c21a06f-6b76-4338-88bf-06cc213cf3ee"
      },
      "execution_count": null,
      "outputs": [
        {
          "output_type": "stream",
          "name": "stdout",
          "text": [
            "Punctuation-based Tokenizer: ['Hey', 'there', '!', '😃', 'I', 'can', \"'\", 't', 'believe', 'it', \"'\", 's', 'already', '2024', '.', 'Did', 'you', 'see', 'John', \"'\", 's', 'new', 'blog', 'post', '?', 'Check', 'it', 'out', 'at', 'https', '://', 'example', '.', 'com', '/', 'blog', '!', 'Also', ',', 'email', 'me', 'at', 'john', '.', 'doe', '@', 'example', '.', 'com', '.', 'He', 'mentioned', 'something', 'about', 'stemming', 'and', 'lemmatization', '—', 'interesting', 'stuff', '.', 'BTW', ',', 'I', \"'\", 'll', 'be', 'attending', 'the', 'AI', 'conference', 'in', 'N', '.', 'Y', '.', 'C', '.', 'next', 'month', '!!', '#', 'Excited', '#', 'AI', '😊', 'Let', \"'\", 's', 'catch', 'up', 'soon', '.', 'Cheers', ',', 'John', '.']\n"
          ]
        }
      ]
    },
    {
      "cell_type": "code",
      "source": [
        "import re\n",
        "\n",
        "def preprocess_text(text):\n",
        "    # Convert text to lowercase\n",
        "    text = text.lower()\n",
        "    # Remove numbers\n",
        "    text = re.sub(r'\\d+', '', text)\n",
        "\n",
        "    # Remove special characters, emojis, punctuation marks, URLs, etc.\n",
        "    text = re.sub(r'http\\S+', '', text)  # Remove URLs\n",
        "    text = re.sub(r'[^\\w\\s]', '', text)  # Remove punctuation marks\n",
        "    text = re.sub(r'[^\\x00-\\x7F]+', '', text)  # Remove emojis\n",
        "\n",
        "    return text\n",
        "\n",
        "text = \"Hey there! 😃 I can't believe it's already 2024. Did you see John's new blog post? Check it out at https://example.com/blog! Also, email me at john.doe@example.com. He mentioned something about 'stemming' and 'lemmatization'—interesting stuff. BTW, I'll be attending the AI conference in N.Y.C. next month!! Let's catch up soon. Cheers, John\"\n",
        "\n",
        "# Preprocess the text\n",
        "processed_text = preprocess_text(text)\n",
        "print(processed_text)\n"
      ],
      "metadata": {
        "colab": {
          "base_uri": "https://localhost:8080/"
        },
        "id": "9AA6ThlRlG2h",
        "outputId": "4ff5ca56-1d28-41ac-b049-abe0fe2c0a6d"
      },
      "execution_count": null,
      "outputs": [
        {
          "output_type": "stream",
          "name": "stdout",
          "text": [
            "hey there  i cant believe its already  did you see johns new blog post check it out at  also email me at johndoeexamplecom he mentioned something about stemming and lemmatizationinteresting stuff btw ill be attending the ai conference in nyc next month lets catch up soon cheers john\n"
          ]
        }
      ]
    },
    {
      "cell_type": "code",
      "source": [
        "import string\n",
        "\n",
        "# Count punctuation characters\n",
        "num_punctuations = sum([1 for char in paragraph if char in string.punctuation])\n",
        "print(\"Number of punctuation characters:\", num_punctuations)\n",
        "\n",
        "# Remove punctuations\n",
        "cleaned_paragraph = paragraph.translate(str.maketrans('', '', string.punctuation))\n"
      ],
      "metadata": {
        "colab": {
          "base_uri": "https://localhost:8080/"
        },
        "id": "W-Gd8arSneYj",
        "outputId": "3405b523-1e56-4a97-bf6f-49b6dd9dad63"
      },
      "execution_count": null,
      "outputs": [
        {
          "output_type": "stream",
          "name": "stdout",
          "text": [
            "Number of punctuation characters: 31\n"
          ]
        }
      ]
    },
    {
      "cell_type": "code",
      "source": [
        "import nltk\n",
        "nltk.download('averaged_perceptron_tagger')\n"
      ],
      "metadata": {
        "colab": {
          "base_uri": "https://localhost:8080/"
        },
        "id": "cd-r-ZMfn5nl",
        "outputId": "e0aa4e7e-9704-4ff5-ee40-7576bd523e01"
      },
      "execution_count": null,
      "outputs": [
        {
          "output_type": "stream",
          "name": "stderr",
          "text": [
            "[nltk_data] Downloading package averaged_perceptron_tagger to\n",
            "[nltk_data]     /root/nltk_data...\n",
            "[nltk_data]   Unzipping taggers/averaged_perceptron_tagger.zip.\n"
          ]
        },
        {
          "output_type": "execute_result",
          "data": {
            "text/plain": [
              "True"
            ]
          },
          "metadata": {},
          "execution_count": 18
        }
      ]
    },
    {
      "cell_type": "code",
      "source": [
        "from nltk import pos_tag\n",
        "from collections import defaultdict\n",
        "\n",
        "# POS tagging\n",
        "pos_tags = pos_tag(tokens)\n",
        "pos_counts = defaultdict(int)\n",
        "\n",
        "# Count POS tags\n",
        "for word, tag in pos_tags:\n",
        "    pos_counts[tag] += 1\n",
        "\n",
        "# Plot\n",
        "plt.bar(pos_counts.keys(), pos_counts.values())\n",
        "plt.xlabel('POS Tags')\n",
        "plt.ylabel('Frequency')\n",
        "plt.title('Distribution of POS Tags')\n",
        "plt.xticks(rotation=45)\n",
        "plt.show()\n"
      ],
      "metadata": {
        "colab": {
          "base_uri": "https://localhost:8080/",
          "height": 489
        },
        "id": "18OFS0ban0H6",
        "outputId": "354190ce-f009-4488-d495-666446cb7de0"
      },
      "execution_count": null,
      "outputs": [
        {
          "output_type": "display_data",
          "data": {
            "text/plain": [
              "<Figure size 640x480 with 1 Axes>"
            ],
            "image/png": "[encoded data removed]"
          },
          "metadata": {}
        }
      ]
    },
    {
      "cell_type": "code",
      "source": [
        "# Tokenization\n",
        "tokens = paragraph.split()\n",
        "# Count unique tokens\n",
        "unique_tokens = set(tokens)\n",
        "num_unique_tokens = len(unique_tokens)\n",
        "print(\"Number of unique tokens:\", num_unique_tokens)"
      ],
      "metadata": {
        "colab": {
          "base_uri": "https://localhost:8080/"
        },
        "id": "4WbldfoHnkmX",
        "outputId": "c24bcef0-867b-40c2-e2d4-d33aead1ecb4"
      },
      "execution_count": null,
      "outputs": [
        {
          "output_type": "stream",
          "name": "stdout",
          "text": [
            "Number of unique tokens: 53\n"
          ]
        }
      ]
    },
    {
      "cell_type": "code",
      "source": [
        "import matplotlib.pyplot as plt\n",
        "from collections import Counter\n",
        "import nltk\n",
        "from nltk.corpus import stopwords\n",
        "\n",
        "# Download stopwords\n",
        "nltk.download('stopwords')\n",
        "\n",
        "# Tokenize and count stopwords\n",
        "stop_words = set(stopwords.words('english'))\n",
        "stopwords_count = Counter(word for word in tokens if word.lower() in stop_words)\n",
        "\n",
        "# Plot\n",
        "plt.bar(stopwords_count.keys(), stopwords_count.values())\n",
        "plt.xlabel('Stopwords')\n",
        "plt.ylabel('Frequency')\n",
        "plt.title('Distribution of Stopwords')\n",
        "plt.xticks(rotation=45)\n",
        "plt.show()\n",
        "\n"
      ],
      "metadata": {
        "colab": {
          "base_uri": "https://localhost:8080/",
          "height": 531
        },
        "id": "AGE-SkUtlVFC",
        "outputId": "de4e475d-09a1-4ba0-8ada-73e0b4fe4f34"
      },
      "execution_count": null,
      "outputs": [
        {
          "output_type": "stream",
          "name": "stderr",
          "text": [
            "[nltk_data] Downloading package stopwords to /root/nltk_data...\n",
            "[nltk_data]   Package stopwords is already up-to-date!\n"
          ]
        },
        {
          "output_type": "display_data",
          "data": {
            "text/plain": [
              "<Figure size 640x480 with 1 Axes>"
            ],
            "image/png": "[encoded data removed]"
          },
          "metadata": {}
        }
      ]
    },
    {
      "cell_type": "code",
      "source": [
        "import re\n",
        "\n",
        "paragraph = \"Hey there! 😃 I can't believe it's already 2024. Did you see John's new blog post? Check it out at https://example.com/blog! Also, email me at john.doe@example.com. He mentioned something about \\\"stemming\\\" and \\\"lemmatization\\\"—interesting stuff. BTW, I'll be attending the AI conference in N.Y.C. next month!! #Excited #AI 😊 Let's catch up soon. Cheers, John\"\n",
        "\n",
        "# Remove URLs\n",
        "processed_paragraph = re.sub(r'http\\S+', '', paragraph)\n",
        "\n",
        "print(processed_paragraph)\n"
      ],
      "metadata": {
        "id": "DN-W9JRAo1Fp",
        "colab": {
          "base_uri": "https://localhost:8080/"
        },
        "outputId": "b865f3df-65b9-4a32-b114-25920743a4d2"
      },
      "execution_count": null,
      "outputs": [
        {
          "output_type": "stream",
          "name": "stdout",
          "text": [
            "Hey there! 😃 I can't believe it's already 2024. Did you see John's new blog post? Check it out at  Also, email me at john.doe@example.com. He mentioned something about \"stemming\" and \"lemmatization\"—interesting stuff. BTW, I'll be attending the AI conference in N.Y.C. next month!! #Excited #AI 😊 Let's catch up soon. Cheers, John\n"
          ]
        }
      ]
    },
    {
      "cell_type": "code",
      "source": [
        "import re\n",
        "\n",
        "paragraph = \"Hey there! 😃 I can't believe it's already 2024. Did you see John's new blog post? Check it out at https://example.com/blog! Also, email me at john.doe@example.com. He mentioned something about \\\"stemming\\\" and \\\"lemmatization\\\"—interesting stuff. BTW, I'll be attending the AI conference in N.Y.C. next month!! #Excited #AI 😊 Let's catch up soon. Cheers, John\"\n",
        "\n",
        "# Remove email addresses\n",
        "processed_paragraph = re.sub(r'\\S*@\\S*', '', paragraph)\n",
        "\n",
        "print(processed_paragraph)\n"
      ],
      "metadata": {
        "id": "SfAjwot8o0lj",
        "colab": {
          "base_uri": "https://localhost:8080/"
        },
        "outputId": "375c936c-ce33-4d9d-a48c-779879148b55"
      },
      "execution_count": null,
      "outputs": [
        {
          "output_type": "stream",
          "name": "stdout",
          "text": [
            "Hey there! 😃 I can't believe it's already 2024. Did you see John's new blog post? Check it out at https://example.com/blog! Also, email me at  He mentioned something about \"stemming\" and \"lemmatization\"—interesting stuff. BTW, I'll be attending the AI conference in N.Y.C. next month!! #Excited #AI 😊 Let's catch up soon. Cheers, John\n"
          ]
        }
      ]
    },
    {
      "cell_type": "code",
      "source": [
        "# Remove special characters and contradictions\n",
        "processed_paragraph = re.sub(r\"[^a-zA-Z0-9' ]+\", ' ', paragraph)\n",
        "processed_paragraph = re.sub(r'\\w+\\'\\w+', '', processed_paragraph)\n",
        "\n",
        "print(processed_paragraph)"
      ],
      "metadata": {
        "id": "3twDKbm7nZNp",
        "colab": {
          "base_uri": "https://localhost:8080/"
        },
        "outputId": "77350275-e2cb-4781-809f-316e2177bdc7"
      },
      "execution_count": null,
      "outputs": [
        {
          "output_type": "stream",
          "name": "stdout",
          "text": [
            "Hey there    I  believe  already 2024  Did you see  new blog post  Check it out at https example com blog  Also  email me at john doe example com  He mentioned something about  stemming  and  lemmatization interesting stuff  BTW   be attending the AI conference in N Y C  next month   Excited  AI    catch up soon  Cheers  John\n"
          ]
        }
      ]
    },
    {
      "cell_type": "code",
      "source": [
        "# Remove punctuation and convert to lowercase\n",
        "processed_paragraph = paragraph.translate(str.maketrans('', '', string.punctuation))\n",
        "processed_paragraph = processed_paragraph.lower()\n",
        "\n",
        "print(processed_paragraph)"
      ],
      "metadata": {
        "id": "KoDvLh4Yo1oC",
        "colab": {
          "base_uri": "https://localhost:8080/"
        },
        "outputId": "88a76e18-2f8f-429b-dc59-a95fbf340530"
      },
      "execution_count": null,
      "outputs": [
        {
          "output_type": "stream",
          "name": "stdout",
          "text": [
            "hey there 😃 i cant believe its already 2024 did you see johns new blog post check it out at httpsexamplecomblog also email me at johndoeexamplecom he mentioned something about stemming and lemmatization—interesting stuff btw ill be attending the ai conference in nyc next month excited ai 😊 lets catch up soon cheers john\n"
          ]
        }
      ]
    },
    {
      "cell_type": "code",
      "source": [
        "from nltk.tokenize import word_tokenize\n",
        "from nltk.corpus import stopwords\n",
        "\n",
        "nltk.download('stopwords')\n",
        "# Tokenization\n",
        "tokens = word_tokenize(paragraph)\n",
        "\n",
        "# Remove stopwords\n",
        "stop_words = set(stopwords.words('english'))\n",
        "filtered_tokens = [word for word in tokens if word.lower() not in stop_words]\n",
        "\n",
        "processed_paragraph = ' '.join(filtered_tokens)\n",
        "\n",
        "print(processed_paragraph)"
      ],
      "metadata": {
        "colab": {
          "base_uri": "https://localhost:8080/"
        },
        "id": "_bP6YsQ6Pw3X",
        "outputId": "349d7f8e-3853-451b-a8dd-9b1d19294c31"
      },
      "execution_count": null,
      "outputs": [
        {
          "output_type": "stream",
          "name": "stdout",
          "text": [
            "Hey ! 😃 ca n't believe 's already 2024 . see John 's new blog post ? Check https : //example.com/blog ! Also , email john.doe @ example.com . mentioned something `` stemming '' `` lemmatization '' —interesting stuff . BTW , 'll attending AI conference N.Y.C . next month ! ! # Excited # AI 😊 Let 's catch soon . Cheers , John\n"
          ]
        },
        {
          "output_type": "stream",
          "name": "stderr",
          "text": [
            "[nltk_data] Downloading package punkt to /root/nltk_data...\n",
            "[nltk_data]   Package punkt is already up-to-date!\n",
            "[nltk_data] Downloading package stopwords to /root/nltk_data...\n",
            "[nltk_data]   Package stopwords is already up-to-date!\n"
          ]
        }
      ]
    },
    {
      "cell_type": "code",
      "source": [
        "from nltk.stem import PorterStemmer\n",
        "\n",
        "\n",
        "# Tokenization\n",
        "tokens = word_tokenize(paragraph)\n",
        "\n",
        "# Initialize stemmer\n",
        "stemmer = PorterStemmer()\n",
        "\n",
        "# Stemming\n",
        "stemmed_tokens = [stemmer.stem(word) for word in tokens]\n",
        "\n",
        "processed_paragraph = ' '.join(stemmed_tokens)\n",
        "\n",
        "print(processed_paragraph)\n"
      ],
      "metadata": {
        "colab": {
          "base_uri": "https://localhost:8080/"
        },
        "id": "fdc-CORPP1EY",
        "outputId": "bba6e049-6274-4e77-af87-0deef970ec2f"
      },
      "execution_count": null,
      "outputs": [
        {
          "output_type": "stream",
          "name": "stdout",
          "text": [
            "hey there ! 😃 i ca n't believ it 's alreadi 2024 . did you see john 's new blog post ? check it out at http : //example.com/blog ! also , email me at john.do @ example.com . he mention someth about `` stem '' and `` lemmat '' —interest stuff . btw , i 'll be attend the ai confer in n.y.c . next month ! ! # excit # ai 😊 let 's catch up soon . cheer , john\n"
          ]
        }
      ]
    },
    {
      "cell_type": "code",
      "source": [
        "# Tokenization\n",
        "tokens = word_tokenize(paragraph)\n",
        "\n",
        "# Initialize lemmatizer\n",
        "lemmatizer = WordNetLemmatizer()\n",
        "\n",
        "# Lemmatization\n",
        "lemmatized_tokens = [lemmatizer.lemmatize(word) for word in tokens]\n",
        "\n",
        "processed_paragraph = ' '.join(lemmatized_tokens)\n",
        "\n",
        "print(processed_paragraph)"
      ],
      "metadata": {
        "colab": {
          "base_uri": "https://localhost:8080/"
        },
        "id": "iw9UE673P87W",
        "outputId": "957ddabb-6ced-4302-9869-f35c81d902fa"
      },
      "execution_count": null,
      "outputs": [
        {
          "output_type": "stream",
          "name": "stdout",
          "text": [
            "Hey there ! 😃 I ca n't believe it 's already 2024 . Did you see John 's new blog post ? Check it out at http : //example.com/blog ! Also , email me at john.doe @ example.com . He mentioned something about `` stemming '' and `` lemmatization '' —interesting stuff . BTW , I 'll be attending the AI conference in N.Y.C . next month ! ! # Excited # AI 😊 Let 's catch up soon . Cheers , John\n"
          ]
        }
      ]
    },
    {
      "cell_type": "markdown",
      "source": [
        "# contractions"
      ],
      "metadata": {
        "id": "QYHKSdY_ME_H"
      }
    },
    {
      "cell_type": "code",
      "source": [
        "!pip install contractions\n",
        "import contractions\n",
        "\n",
        "paragraph = \"Hey there! 😃 I can't believe it's already 2024. Did you see John's new blog post? Check it out at https://example.com/blog! Also, email me at john.doe@example.com. He mentioned something about stemming and lemmatization—interesting stuff. BTW, I'll be attending the AI conference in N.Y.C. next month!! #Excited #AI 😊 Let's catch up soon. Cheers, John.\"\n",
        "\n",
        "# Expanding contractions in the paragraph\n",
        "expanded_paragraph = contractions.fix(paragraph)\n",
        "print(expanded_paragraph)\n"
      ],
      "metadata": {
        "colab": {
          "base_uri": "https://localhost:8080/"
        },
        "id": "4-nUuEAyLUR6",
        "outputId": "7cbf2ac0-1760-4cca-bc31-77927d17c948"
      },
      "execution_count": null,
      "outputs": [
        {
          "output_type": "stream",
          "name": "stdout",
          "text": [
            "Requirement already satisfied: contractions in /usr/local/lib/python3.10/dist-packages (0.1.73)\n",
            "Requirement already satisfied: textsearch>=0.0.21 in /usr/local/lib/python3.10/dist-packages (from contractions) (0.0.24)\n",
            "Requirement already satisfied: anyascii in /usr/local/lib/python3.10/dist-packages (from textsearch>=0.0.21->contractions) (0.3.2)\n",
            "Requirement already satisfied: pyahocorasick in /usr/local/lib/python3.10/dist-packages (from textsearch>=0.0.21->contractions) (2.1.0)\n",
            "Hey there! 😃 I cannot believe it is already 2024. Did you see John's new blog post? Check it out at https://example.com/blog! Also, email me at john.doe@example.com. He mentioned something about stemming and lemmatization—interesting stuff. BY THE WAY, I will be attending the AI conference in N.Y.C. next month!! #Excited #AI 😊 Let us catch up soon. Cheers, John.\n"
          ]
        }
      ]
    },
    {
      "cell_type": "code",
      "source": [
        "from nltk.util import ngrams\n",
        "from nltk.tokenize import word_tokenize\n",
        "\n",
        "# Tokenize the expanded paragraph into words\n",
        "tokens = word_tokenize(expanded_paragraph)\n",
        "\n",
        "# Create unigrams\n",
        "unigrams = list(ngrams(tokens, 1))\n",
        "\n",
        "# Create bigrams\n",
        "bigrams = list(ngrams(tokens, 2))\n",
        "\n",
        "# Display the unigrams and bigrams\n",
        "print(\"Unigrams:\", unigrams)\n",
        "print(\"Bigrams:\", bigrams)\n",
        "\n",
        "# Create trigrams\n",
        "trigrams = list(ngrams(tokens, 3))\n",
        "\n",
        "# Display the trigrams\n",
        "print(\"Trigrams:\", trigrams)"
      ],
      "metadata": {
        "colab": {
          "base_uri": "https://localhost:8080/"
        },
        "id": "RNuOmBc8NnOT",
        "outputId": "549fe593-dd06-4bd0-dc6f-70475d52d798"
      },
      "execution_count": null,
      "outputs": [
        {
          "output_type": "stream",
          "name": "stdout",
          "text": [
            "Unigrams: [('Hey',), ('there',), ('!',), ('😃',), ('I',), ('can',), ('not',), ('believe',), ('it',), ('is',), ('already',), ('2024',), ('.',), ('Did',), ('you',), ('see',), ('John',), (\"'s\",), ('new',), ('blog',), ('post',), ('?',), ('Check',), ('it',), ('out',), ('at',), ('https',), (':',), ('//example.com/blog',), ('!',), ('Also',), (',',), ('email',), ('me',), ('at',), ('john.doe',), ('@',), ('example.com',), ('.',), ('He',), ('mentioned',), ('something',), ('about',), ('stemming',), ('and',), ('lemmatization—interesting',), ('stuff',), ('.',), ('BY',), ('THE',), ('WAY',), (',',), ('I',), ('will',), ('be',), ('attending',), ('the',), ('AI',), ('conference',), ('in',), ('N.Y.C',), ('.',), ('next',), ('month',), ('!',), ('!',), ('#',), ('Excited',), ('#',), ('AI',), ('😊',), ('Let',), ('us',), ('catch',), ('up',), ('soon',), ('.',), ('Cheers',), (',',), ('John',), ('.',)]\n",
            "Bigrams: [('Hey', 'there'), ('there', '!'), ('!', '😃'), ('😃', 'I'), ('I', 'can'), ('can', 'not'), ('not', 'believe'), ('believe', 'it'), ('it', 'is'), ('is', 'already'), ('already', '2024'), ('2024', '.'), ('.', 'Did'), ('Did', 'you'), ('you', 'see'), ('see', 'John'), ('John', \"'s\"), (\"'s\", 'new'), ('new', 'blog'), ('blog', 'post'), ('post', '?'), ('?', 'Check'), ('Check', 'it'), ('it', 'out'), ('out', 'at'), ('at', 'https'), ('https', ':'), (':', '//example.com/blog'), ('//example.com/blog', '!'), ('!', 'Also'), ('Also', ','), (',', 'email'), ('email', 'me'), ('me', 'at'), ('at', 'john.doe'), ('john.doe', '@'), ('@', 'example.com'), ('example.com', '.'), ('.', 'He'), ('He', 'mentioned'), ('mentioned', 'something'), ('something', 'about'), ('about', 'stemming'), ('stemming', 'and'), ('and', 'lemmatization—interesting'), ('lemmatization—interesting', 'stuff'), ('stuff', '.'), ('.', 'BY'), ('BY', 'THE'), ('THE', 'WAY'), ('WAY', ','), (',', 'I'), ('I', 'will'), ('will', 'be'), ('be', 'attending'), ('attending', 'the'), ('the', 'AI'), ('AI', 'conference'), ('conference', 'in'), ('in', 'N.Y.C'), ('N.Y.C', '.'), ('.', 'next'), ('next', 'month'), ('month', '!'), ('!', '!'), ('!', '#'), ('#', 'Excited'), ('Excited', '#'), ('#', 'AI'), ('AI', '😊'), ('😊', 'Let'), ('Let', 'us'), ('us', 'catch'), ('catch', 'up'), ('up', 'soon'), ('soon', '.'), ('.', 'Cheers'), ('Cheers', ','), (',', 'John'), ('John', '.')]\n",
            "Trigrams: [('Hey', 'there', '!'), ('there', '!', '😃'), ('!', '😃', 'I'), ('😃', 'I', 'can'), ('I', 'can', 'not'), ('can', 'not', 'believe'), ('not', 'believe', 'it'), ('believe', 'it', 'is'), ('it', 'is', 'already'), ('is', 'already', '2024'), ('already', '2024', '.'), ('2024', '.', 'Did'), ('.', 'Did', 'you'), ('Did', 'you', 'see'), ('you', 'see', 'John'), ('see', 'John', \"'s\"), ('John', \"'s\", 'new'), (\"'s\", 'new', 'blog'), ('new', 'blog', 'post'), ('blog', 'post', '?'), ('post', '?', 'Check'), ('?', 'Check', 'it'), ('Check', 'it', 'out'), ('it', 'out', 'at'), ('out', 'at', 'https'), ('at', 'https', ':'), ('https', ':', '//example.com/blog'), (':', '//example.com/blog', '!'), ('//example.com/blog', '!', 'Also'), ('!', 'Also', ','), ('Also', ',', 'email'), (',', 'email', 'me'), ('email', 'me', 'at'), ('me', 'at', 'john.doe'), ('at', 'john.doe', '@'), ('john.doe', '@', 'example.com'), ('@', 'example.com', '.'), ('example.com', '.', 'He'), ('.', 'He', 'mentioned'), ('He', 'mentioned', 'something'), ('mentioned', 'something', 'about'), ('something', 'about', 'stemming'), ('about', 'stemming', 'and'), ('stemming', 'and', 'lemmatization—interesting'), ('and', 'lemmatization—interesting', 'stuff'), ('lemmatization—interesting', 'stuff', '.'), ('stuff', '.', 'BY'), ('.', 'BY', 'THE'), ('BY', 'THE', 'WAY'), ('THE', 'WAY', ','), ('WAY', ',', 'I'), (',', 'I', 'will'), ('I', 'will', 'be'), ('will', 'be', 'attending'), ('be', 'attending', 'the'), ('attending', 'the', 'AI'), ('the', 'AI', 'conference'), ('AI', 'conference', 'in'), ('conference', 'in', 'N.Y.C'), ('in', 'N.Y.C', '.'), ('N.Y.C', '.', 'next'), ('.', 'next', 'month'), ('next', 'month', '!'), ('month', '!', '!'), ('!', '!', '#'), ('!', '#', 'Excited'), ('#', 'Excited', '#'), ('Excited', '#', 'AI'), ('#', 'AI', '😊'), ('AI', '😊', 'Let'), ('😊', 'Let', 'us'), ('Let', 'us', 'catch'), ('us', 'catch', 'up'), ('catch', 'up', 'soon'), ('up', 'soon', '.'), ('soon', '.', 'Cheers'), ('.', 'Cheers', ','), ('Cheers', ',', 'John'), (',', 'John', '.')]\n"
          ]
        }
      ]
    }
  ]
}