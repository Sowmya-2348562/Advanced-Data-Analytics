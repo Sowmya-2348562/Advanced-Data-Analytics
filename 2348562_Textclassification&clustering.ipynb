{
  "nbformat": 4,
  "nbformat_minor": 0,
  "metadata": {
    "colab": {
      "provenance": [],
      "authorship_tag": "ABX9TyOHIlkHdv4RWMPpId1aJFxg",
      "include_colab_link": true
    },
    "kernelspec": {
      "name": "python3",
      "display_name": "Python 3"
    },
    "language_info": {
      "name": "python"
    }
  },
  "cells": [
    {
      "cell_type": "markdown",
      "metadata": {
        "id": "view-in-github",
        "colab_type": "text"
      },
      "source": [
        "<a href=\"https://colab.research.google.com/github/Sowmya-2348562/Advanced-Data-Analytics/blob/main/2348562_Textclassification%26clustering.ipynb\" target=\"_parent\"><img src=\"https://colab.research.google.com/assets/colab-badge.svg\" alt=\"Open In Colab\"/></a>"
      ]
    },
    {
      "cell_type": "code",
      "source": [
        "from sklearn.datasets import fetch_20newsgroups\n",
        "newsgroups_train = fetch_20newsgroups(subset='train')\n",
        "\n",
        "from pprint import pprint\n",
        "pprint(list(newsgroups_train.target_names))"
      ],
      "metadata": {
        "colab": {
          "base_uri": "https://localhost:8080/"
        },
        "id": "viYLMgc0_CPg",
        "outputId": "8521fa87-7556-4d2a-95a2-459f57daa288"
      },
      "execution_count": null,
      "outputs": [
        {
          "output_type": "stream",
          "name": "stdout",
          "text": [
            "['alt.atheism',\n",
            " 'comp.graphics',\n",
            " 'comp.os.ms-windows.misc',\n",
            " 'comp.sys.ibm.pc.hardware',\n",
            " 'comp.sys.mac.hardware',\n",
            " 'comp.windows.x',\n",
            " 'misc.forsale',\n",
            " 'rec.autos',\n",
            " 'rec.motorcycles',\n",
            " 'rec.sport.baseball',\n",
            " 'rec.sport.hockey',\n",
            " 'sci.crypt',\n",
            " 'sci.electronics',\n",
            " 'sci.med',\n",
            " 'sci.space',\n",
            " 'soc.religion.christian',\n",
            " 'talk.politics.guns',\n",
            " 'talk.politics.mideast',\n",
            " 'talk.politics.misc',\n",
            " 'talk.religion.misc']\n"
          ]
        }
      ]
    },
    {
      "cell_type": "markdown",
      "source": [
        "remove uneccessary information while pre processing, (preliminary) = how many data points are there in train and test and clustering are there do preliminary check"
      ],
      "metadata": {
        "id": "PE6SCdZ8Bkc8"
      }
    },
    {
      "cell_type": "code",
      "source": [
        "newsgroups_train = fetch_20newsgroups(subset='train', random_state=42, remove=('headers', 'footers', 'quotes'))\n",
        "newsgroups_test = fetch_20newsgroups(subset='test', random_state=42, remove=('headers', 'footers', 'quotes'))\n",
        "\n",
        "print(f\"Categories: {newsgroups_train.target_names}\")\n",
        "print(f\"Number of Categories: {len(newsgroups_train.target_names)}\")\n",
        "print(f\"Number of training documents: {len(newsgroups_train.data)}\")\n",
        "print(f\"Number of test documents: {len(newsgroups_test.data)}\")"
      ],
      "metadata": {
        "colab": {
          "base_uri": "https://localhost:8080/"
        },
        "id": "HswquDNYBKWR",
        "outputId": "4e616fe9-cd72-49b3-a2bd-00a74211dc0e"
      },
      "execution_count": null,
      "outputs": [
        {
          "output_type": "stream",
          "name": "stdout",
          "text": [
            "Categories: ['alt.atheism', 'comp.graphics', 'comp.os.ms-windows.misc', 'comp.sys.ibm.pc.hardware', 'comp.sys.mac.hardware', 'comp.windows.x', 'misc.forsale', 'rec.autos', 'rec.motorcycles', 'rec.sport.baseball', 'rec.sport.hockey', 'sci.crypt', 'sci.electronics', 'sci.med', 'sci.space', 'soc.religion.christian', 'talk.politics.guns', 'talk.politics.mideast', 'talk.politics.misc', 'talk.religion.misc']\n",
            "Number of Categories: 20\n",
            "Number of training documents: 11314\n",
            "Number of test documents: 7532\n"
          ]
        }
      ]
    },
    {
      "cell_type": "code",
      "source": [
        "type(newsgroups_train)"
      ],
      "metadata": {
        "colab": {
          "base_uri": "https://localhost:8080/",
          "height": 186
        },
        "id": "ZoD25aY7IADZ",
        "outputId": "beb23810-3344-4130-f1bb-a2bbb613c78a"
      },
      "execution_count": null,
      "outputs": [
        {
          "output_type": "execute_result",
          "data": {
            "text/plain": [
              "sklearn.utils._bunch.Bunch"
            ],
            "text/html": [
              "<div style=\"max-width:800px; border: 1px solid var(--colab-border-color);\"><style>\n",
              "      pre.function-repr-contents {\n",
              "        overflow-x: auto;\n",
              "        padding: 8px 12px;\n",
              "        max-height: 500px;\n",
              "      }\n",
              "\n",
              "      pre.function-repr-contents.function-repr-contents-collapsed {\n",
              "        cursor: pointer;\n",
              "        max-height: 100px;\n",
              "      }\n",
              "    </style>\n",
              "    <pre style=\"white-space: initial; background:\n",
              "         var(--colab-secondary-surface-color); padding: 8px 12px;\n",
              "         border-bottom: 1px solid var(--colab-border-color);\"><b>sklearn.utils._bunch.Bunch</b><br/>def __init__(**kwargs)</pre><pre class=\"function-repr-contents function-repr-contents-collapsed\" style=\"\"><a class=\"filepath\" style=\"display:none\" href=\"#\">/usr/local/lib/python3.10/dist-packages/sklearn/utils/_bunch.py</a>Container object exposing keys as attributes.\n",
              "\n",
              "Bunch objects are sometimes used as an output for functions and methods.\n",
              "They extend dictionaries by enabling values to be accessed by key,\n",
              "`bunch[&quot;value_key&quot;]`, or by an attribute, `bunch.value_key`.\n",
              "\n",
              "Examples\n",
              "--------\n",
              "&gt;&gt;&gt; from sklearn.utils import Bunch\n",
              "&gt;&gt;&gt; b = Bunch(a=1, b=2)\n",
              "&gt;&gt;&gt; b[&#x27;b&#x27;]\n",
              "2\n",
              "&gt;&gt;&gt; b.b\n",
              "2\n",
              "&gt;&gt;&gt; b.a = 3\n",
              "&gt;&gt;&gt; b[&#x27;a&#x27;]\n",
              "3\n",
              "&gt;&gt;&gt; b.c = 6\n",
              "&gt;&gt;&gt; b[&#x27;c&#x27;]\n",
              "6</pre>\n",
              "      <script>\n",
              "      if (google.colab.kernel.accessAllowed && google.colab.files && google.colab.files.view) {\n",
              "        for (const element of document.querySelectorAll('.filepath')) {\n",
              "          element.style.display = 'block'\n",
              "          element.onclick = (event) => {\n",
              "            event.preventDefault();\n",
              "            event.stopPropagation();\n",
              "            google.colab.files.view(element.textContent, 1);\n",
              "          };\n",
              "        }\n",
              "      }\n",
              "      for (const element of document.querySelectorAll('.function-repr-contents')) {\n",
              "        element.onclick = (event) => {\n",
              "          event.preventDefault();\n",
              "          event.stopPropagation();\n",
              "          element.classList.toggle('function-repr-contents-collapsed');\n",
              "        };\n",
              "      }\n",
              "      </script>\n",
              "      </div>"
            ]
          },
          "metadata": {},
          "execution_count": 3
        }
      ]
    },
    {
      "cell_type": "markdown",
      "source": [
        "create a function with preprocessing"
      ],
      "metadata": {
        "id": "dccrgaK2CZsh"
      }
    },
    {
      "cell_type": "code",
      "source": [
        "import re\n",
        "import string\n",
        "import nltk\n",
        "from nltk.corpus import stopwords\n",
        "from nltk.tokenize import word_tokenize\n",
        "from nltk.stem import WordNetLemmatizer\n",
        "\n",
        "nltk.download('punkt')\n",
        "nltk.download('wordnet')\n",
        "nltk.download('stopwords')"
      ],
      "metadata": {
        "colab": {
          "base_uri": "https://localhost:8080/"
        },
        "id": "JoAjUvfAIMqs",
        "outputId": "0affa915-f923-444c-ee90-efb214b3200a"
      },
      "execution_count": null,
      "outputs": [
        {
          "output_type": "stream",
          "name": "stderr",
          "text": [
            "[nltk_data] Downloading package punkt to /root/nltk_data...\n",
            "[nltk_data]   Unzipping tokenizers/punkt.zip.\n",
            "[nltk_data] Downloading package wordnet to /root/nltk_data...\n",
            "[nltk_data] Downloading package stopwords to /root/nltk_data...\n",
            "[nltk_data]   Unzipping corpora/stopwords.zip.\n"
          ]
        },
        {
          "output_type": "execute_result",
          "data": {
            "text/plain": [
              "True"
            ]
          },
          "metadata": {},
          "execution_count": 4
        }
      ]
    },
    {
      "cell_type": "code",
      "source": [
        "def preprocess_text(text):\n",
        "    text = text.translate(str.maketrans('', '', string.punctuation))\n",
        "    text = text.lower()\n",
        "    tokens = word_tokenize(text)\n",
        "    stop_words = set(stopwords.words('english'))\n",
        "    tokens = [word for word in tokens if word not in stop_words]\n",
        "    lemmatizer = WordNetLemmatizer()\n",
        "    lemmatized_tokens = [lemmatizer.lemmatize(word) for word in tokens]\n",
        "    preprocessed_text = ' '.join(lemmatized_tokens)\n",
        "\n",
        "    return preprocessed_text\n"
      ],
      "metadata": {
        "id": "AnZKhsmgFDRj"
      },
      "execution_count": null,
      "outputs": []
    },
    {
      "cell_type": "code",
      "source": [
        "newsgroups_train.data = [preprocess_text(text) for text in newsgroups_train.data]\n",
        "newsgroups_test.data = [preprocess_text(text) for text in newsgroups_test.data]"
      ],
      "metadata": {
        "id": "r6poeSiDIae1"
      },
      "execution_count": null,
      "outputs": []
    },
    {
      "cell_type": "markdown",
      "source": [
        "Feature Extraction"
      ],
      "metadata": {
        "id": "PDz00YmLI9eW"
      }
    },
    {
      "cell_type": "code",
      "source": [
        "from sklearn.feature_extraction.text import TfidfVectorizer\n",
        "\n",
        "vectorizer = TfidfVectorizer(max_features=10000)\n",
        "X_train = vectorizer.fit_transform(newsgroups_train.data)\n",
        "X_test = vectorizer.transform(newsgroups_test.data)\n",
        "y_train = newsgroups_train.target\n",
        "y_test = newsgroups_test.target"
      ],
      "metadata": {
        "id": "VZ39dh0lEZ-3"
      },
      "execution_count": null,
      "outputs": []
    },
    {
      "cell_type": "markdown",
      "source": [
        "Model Training and evaluation"
      ],
      "metadata": {
        "id": "MSq3pcg1JfiZ"
      }
    },
    {
      "cell_type": "markdown",
      "source": [
        "Multinomial NB"
      ],
      "metadata": {
        "id": "KtA78-RyJ1Zk"
      }
    },
    {
      "cell_type": "code",
      "source": [
        "from sklearn.naive_bayes import MultinomialNB\n",
        "from sklearn.svm import LinearSVC\n",
        "from sklearn.linear_model import LogisticRegression\n",
        "from sklearn.metrics import accuracy_score\n",
        "from sklearn.ensemble import RandomForestClassifier"
      ],
      "metadata": {
        "id": "XVYtOMOlJjUu"
      },
      "execution_count": null,
      "outputs": []
    },
    {
      "cell_type": "code",
      "source": [
        "clf_NB = MultinomialNB()\n",
        "clf_NB.fit(X_train, y_train)\n",
        "y_pred_NB = clf_NB.predict(X_test)\n",
        "accuracy_NB = accuracy_score(y_test, y_pred_NB)\n",
        "print(f\"Accuracy of Multinomial Naive Bayes: {accuracy_NB:.2f}\")\n"
      ],
      "metadata": {
        "colab": {
          "base_uri": "https://localhost:8080/"
        },
        "id": "geuFZIcpKFlo",
        "outputId": "bdcb218b-eeaa-48ec-fcf5-2b67387955aa"
      },
      "execution_count": null,
      "outputs": [
        {
          "output_type": "stream",
          "name": "stdout",
          "text": [
            "Accuracy of Multinomial Naive Bayes: 0.67\n"
          ]
        }
      ]
    },
    {
      "cell_type": "markdown",
      "source": [
        "SVC"
      ],
      "metadata": {
        "id": "DL1Bfx6bKXQd"
      }
    },
    {
      "cell_type": "code",
      "source": [
        "clf_SVC = LinearSVC()\n",
        "clf_SVC.fit(X_train, y_train)\n",
        "y_pred_SVC = clf_SVC.predict(X_test)\n",
        "accuracy_SVC = accuracy_score(y_test, y_pred_SVC)\n",
        "print(f\"Accuracy of Linear SVC: {accuracy_SVC:.2f}\")\n"
      ],
      "metadata": {
        "colab": {
          "base_uri": "https://localhost:8080/"
        },
        "id": "1KdWao7yKIx6",
        "outputId": "128a7e5f-ef3d-427e-af52-54592e4ab4ed"
      },
      "execution_count": null,
      "outputs": [
        {
          "output_type": "stream",
          "name": "stdout",
          "text": [
            "Accuracy of Linear SVC: 0.66\n"
          ]
        }
      ]
    },
    {
      "cell_type": "markdown",
      "source": [
        "RF"
      ],
      "metadata": {
        "id": "GNeT4a-OLFSr"
      }
    },
    {
      "cell_type": "code",
      "source": [
        "clf_RF = RandomForestClassifier()\n",
        "clf_RF.fit(X_train, y_train)\n",
        "y_pred_RF = clf_RF.predict(X_test)\n",
        "accuracy_RF = accuracy_score(y_test, y_pred_RF)\n",
        "print(f\"Accuracy of Random Forest: {accuracy_RF:.2f}\")\n"
      ],
      "metadata": {
        "colab": {
          "base_uri": "https://localhost:8080/"
        },
        "id": "lAktEThCKRGU",
        "outputId": "52e5d950-451a-419d-a6a3-3bc53b1f95fe"
      },
      "execution_count": null,
      "outputs": [
        {
          "output_type": "stream",
          "name": "stdout",
          "text": [
            "Accuracy of Random Forest: 0.60\n"
          ]
        }
      ]
    },
    {
      "cell_type": "markdown",
      "source": [
        "Logistic regression"
      ],
      "metadata": {
        "id": "HgIx6N6uMC6h"
      }
    },
    {
      "cell_type": "code",
      "source": [
        "lg_model = LogisticRegression()\n",
        "lg_model.fit(X_train, y_train)\n",
        "\n",
        "y_pred = lg_model.predict(X_test)\n",
        "accuracy = accuracy_score(y_test, y_pred)\n",
        "print(\"Accuracy of the Logistic Regression model:\", accuracy)"
      ],
      "metadata": {
        "colab": {
          "base_uri": "https://localhost:8080/"
        },
        "id": "YZa2x2gtMCTS",
        "outputId": "d4dd4bda-7a73-4a90-bb18-841a88d0caa4"
      },
      "execution_count": null,
      "outputs": [
        {
          "output_type": "stream",
          "name": "stdout",
          "text": [
            "Accuracy of the Logistic Regression model: 0.6688794476898566\n"
          ]
        },
        {
          "output_type": "stream",
          "name": "stderr",
          "text": [
            "/usr/local/lib/python3.10/dist-packages/sklearn/linear_model/_logistic.py:458: ConvergenceWarning: lbfgs failed to converge (status=1):\n",
            "STOP: TOTAL NO. of ITERATIONS REACHED LIMIT.\n",
            "\n",
            "Increase the number of iterations (max_iter) or scale the data as shown in:\n",
            "    https://scikit-learn.org/stable/modules/preprocessing.html\n",
            "Please also refer to the documentation for alternative solver options:\n",
            "    https://scikit-learn.org/stable/modules/linear_model.html#logistic-regression\n",
            "  n_iter_i = _check_optimize_result(\n"
          ]
        }
      ]
    },
    {
      "cell_type": "markdown",
      "source": [
        "decision tree"
      ],
      "metadata": {
        "id": "qQRd0TthXDIU"
      }
    },
    {
      "cell_type": "code",
      "source": [
        "from sklearn.tree import DecisionTreeClassifier\n",
        "dt_model = DecisionTreeClassifier()\n",
        "dt_model.fit(X_train, y_train)\n",
        "\n",
        "y_pred = dt_model.predict(X_test)\n",
        "accuracy = accuracy_score(y_test, y_pred)\n",
        "print(\"Accuracy of the Decision Tree model:\", accuracy)"
      ],
      "metadata": {
        "colab": {
          "base_uri": "https://localhost:8080/"
        },
        "id": "jgJ_6VDqXCpC",
        "outputId": "d53630fd-7eb7-4351-c279-36ccd8b48a5b"
      },
      "execution_count": null,
      "outputs": [
        {
          "output_type": "stream",
          "name": "stdout",
          "text": [
            "Accuracy of the Decision Tree model: 0.4383961763143919\n"
          ]
        }
      ]
    },
    {
      "cell_type": "markdown",
      "source": [
        "Vectorization for another model mnb: we have already used tfidf , now count vectorization , make different preprocessing steps will increase accuracy"
      ],
      "metadata": {
        "id": "7t7tpcoyhmwX"
      }
    },
    {
      "cell_type": "code",
      "source": [
        "# Load 20 newsgroups dataset\n",
        "newsgroups_train = fetch_20newsgroups(subset='train')\n",
        "newsgroups_test = fetch_20newsgroups(subset='test')\n",
        "\n",
        "# Preprocess the data\n",
        "newsgroups_train.data = [preprocess_text(text) for text in newsgroups_train.data]\n",
        "newsgroups_test.data = [preprocess_text(text) for text in newsgroups_test.data]\n",
        "\n",
        "# Initialize CountVectorizer\n",
        "vectorizer = CountVectorizer(max_features=10000)\n",
        "\n",
        "# Transform the text data\n",
        "X_train = vectorizer.fit_transform(newsgroups_train.data)\n",
        "X_test = vectorizer.transform(newsgroups_test.data)\n",
        "\n",
        "# Get target labels\n",
        "y_train = newsgroups_train.target\n",
        "y_test = newsgroups_test.target\n",
        "\n",
        "# Initialize Multinomial Naive Bayes classifier\n",
        "clf_NB = MultinomialNB()\n",
        "\n",
        "# Train the classifier\n",
        "clf_NB.fit(X_train, y_train)\n",
        "\n",
        "# Predict on the test data\n",
        "y_pred_NB = clf_NB.predict(X_test)\n",
        "\n",
        "# Calculate accuracy\n",
        "accuracy_NB = accuracy_score(y_test, y_pred_NB)\n",
        "print(f\"Accuracy of Multinomial Naive Bayes with CountVectorizer: {accuracy_NB:.2f}\")"
      ],
      "metadata": {
        "colab": {
          "base_uri": "https://localhost:8080/"
        },
        "id": "iuB5VBrTY1hj",
        "outputId": "a9b53dc1-e5e0-4254-a756-0aa8eeee38be"
      },
      "execution_count": null,
      "outputs": [
        {
          "output_type": "stream",
          "name": "stdout",
          "text": [
            "Accuracy of Multinomial Naive Bayes with CountVectorizer: 0.80\n"
          ]
        }
      ]
    },
    {
      "cell_type": "markdown",
      "source": [
        "Clustering: till vectorizaton step is same"
      ],
      "metadata": {
        "id": "9sjS_r7WMjFX"
      }
    },
    {
      "cell_type": "markdown",
      "source": [
        "silhoutte scores: clusters are good . it should be aligned with 0 to 1 , -1 is not good , meaning its out of cluster groups"
      ],
      "metadata": {
        "id": "bB1N_YHGMuwc"
      }
    },
    {
      "cell_type": "markdown",
      "source": [
        "vectorization to extract data: with the help of trained model we are building the data."
      ],
      "metadata": {
        "id": "_6tMEt4RNpMr"
      }
    },
    {
      "cell_type": "markdown",
      "source": [
        "Clustering\n",
        "\n",
        "K-means Clustering, first take for k value: 20 , then make changes using elbow method, to find k - find best k value from loop"
      ],
      "metadata": {
        "id": "H9uNz3kJN8R_"
      }
    },
    {
      "cell_type": "markdown",
      "source": [
        "Count vectorization"
      ],
      "metadata": {
        "id": "fJmQto3ySJtz"
      }
    },
    {
      "cell_type": "code",
      "source": [
        "# Load 20 newsgroups dataset\n",
        "newsgroups_train = fetch_20newsgroups(subset='train')\n",
        "newsgroups_test = fetch_20newsgroups(subset='test')\n",
        "\n",
        "# Preprocess the data\n",
        "newsgroups_train.data = [preprocess_text(text) for text in newsgroups_train.data]\n",
        "newsgroups_test.data = [preprocess_text(text) for text in newsgroups_test.data]\n",
        "\n",
        "# Vectorize the data using TfidfVectorizer\n",
        "vectorizer = TfidfVectorizer(max_features=10000)\n",
        "X_train = vectorizer.fit_transform(newsgroups_train.data)\n",
        "X_test = vectorizer.transform(newsgroups_test.data)\n",
        "\n",
        "# Initialize K-means clustering with k=20\n",
        "k = 20\n",
        "kmeans = KMeans(n_clusters=k, random_state=42)\n",
        "kmeans.fit(X_train)\n",
        "\n",
        "# Predict clusters for the training and test data\n",
        "train_cluster_labels = kmeans.labels_\n",
        "test_cluster_labels = kmeans.predict(X_test)\n",
        "\n",
        "# Calculate silhouette score for training data\n",
        "silhouette_avg = silhouette_score(X_train, train_cluster_labels)\n",
        "print(f\"Silhouette score for k={k}: {silhouette_avg:.2f}\")"
      ],
      "metadata": {
        "id": "cg_aRTa7Pye4",
        "colab": {
          "base_uri": "https://localhost:8080/"
        },
        "outputId": "54d71257-e517-4def-cd35-12701995a6da"
      },
      "execution_count": null,
      "outputs": [
        {
          "output_type": "stream",
          "name": "stderr",
          "text": [
            "/usr/local/lib/python3.10/dist-packages/sklearn/cluster/_kmeans.py:870: FutureWarning: The default value of `n_init` will change from 10 to 'auto' in 1.4. Set the value of `n_init` explicitly to suppress the warning\n",
            "  warnings.warn(\n"
          ]
        },
        {
          "output_type": "stream",
          "name": "stdout",
          "text": [
            "Silhouette score for k=20: 0.01\n"
          ]
        }
      ]
    },
    {
      "cell_type": "code",
      "source": [
        "import matplotlib.pyplot as plt\n",
        "\n",
        "# Initialize a range of k values\n",
        "k_values = range(2, 21)  # Testing k from 2 to 20\n",
        "\n",
        "# Initialize list to store inertia values\n",
        "inertia_values = []\n",
        "\n",
        "for k in k_values:\n",
        "    kmeans = KMeans(n_clusters=k, random_state=42)\n",
        "    kmeans.fit(X_train)\n",
        "    inertia_values.append(kmeans.inertia_)\n",
        "\n",
        "# Plotting the elbow curve\n",
        "plt.figure(figsize=(10, 6))\n",
        "plt.plot(k_values, inertia_values, marker='o', linestyle='-', color='b')\n",
        "plt.title('Elbow Method for Optimal k')\n",
        "plt.xlabel('Number of clusters (k)')\n",
        "plt.ylabel('Inertia')\n",
        "plt.xticks(k_values)\n",
        "plt.grid(True)\n",
        "plt.show()"
      ],
      "metadata": {
        "colab": {
          "base_uri": "https://localhost:8080/",
          "height": 564
        },
        "id": "g4cqFYL6j0Y0",
        "outputId": "4be7b23a-bd64-47f5-acf5-684945a0adfc"
      },
      "execution_count": null,
      "outputs": [
        {
          "output_type": "display_data",
          "data": {
            "text/plain": [
              "<Figure size 1000x600 with 1 Axes>"
            ],
            "image/png": "[encoded data removed]"
          },
          "metadata": {}
        }
      ]
    },
    {
      "cell_type": "code",
      "source": [
        "# Vectorize the data using CountVectorizer\n",
        "vectorizer = CountVectorizer(max_features=10000)\n",
        "X_train = vectorizer.fit_transform(newsgroups_train.data)\n",
        "\n",
        "# Initialize K-means clustering with k=20\n",
        "k = 20\n",
        "kmeans = KMeans(n_clusters=k, random_state=42)\n",
        "kmeans.fit(X_train)\n",
        "\n",
        "# Get cluster labels for training data\n",
        "train_cluster_labels = kmeans.labels_\n",
        "\n",
        "# Calculate silhouette score for training data\n",
        "silhouette_avg = silhouette_score(X_train, train_cluster_labels)\n",
        "print(f\"Silhouette score for k={k}: {silhouette_avg:.2f}\")"
      ],
      "metadata": {
        "colab": {
          "base_uri": "https://localhost:8080/"
        },
        "id": "T1maKz7Kkxa0",
        "outputId": "8b1283d5-b0cc-4730-90b2-f41d1b914df1"
      },
      "execution_count": null,
      "outputs": [
        {
          "output_type": "stream",
          "name": "stdout",
          "text": [
            "Silhouette score for k=20: 0.53\n"
          ]
        }
      ]
    },
    {
      "cell_type": "code",
      "source": [
        "from sklearn.cluster import AgglomerativeClustering, DBSCAN\n",
        "from sklearn.metrics import silhouette_score\n",
        "\n",
        "X_train_dense = X_train.toarray() if hasattr(X_train, 'toarray') else X_train\n",
        "\n",
        "# Hierarchical Clustering\n",
        "hierarchical_model = AgglomerativeClustering(n_clusters=k)\n",
        "hierarchical_labels = hierarchical_model.fit_predict(X_train_dense)\n",
        "hierarchical_silhouette_avg = silhouette_score(X_train_dense, hierarchical_labels)\n",
        "print(\"The average silhouette score for hierarchical clustering is:\", hierarchical_silhouette_avg)"
      ],
      "metadata": {
        "colab": {
          "base_uri": "https://localhost:8080/"
        },
        "id": "_Q5ovTUxotSX",
        "outputId": "c5f53755-f36d-40c6-a64b-446494cf375b"
      },
      "execution_count": null,
      "outputs": [
        {
          "output_type": "stream",
          "name": "stdout",
          "text": [
            "The average silhouette score for hierarchical clustering is: 0.5055843114235932\n"
          ]
        }
      ]
    },
    {
      "cell_type": "code",
      "source": [
        "# Vectorize the preprocessed data using TF-IDF\n",
        "vectorizer = TfidfVectorizer(max_features=10000)\n",
        "X_train = vectorizer.fit_transform(newsgroups_train.data)\n",
        "X_test = vectorizer.transform(newsgroups_test.data)\n",
        "\n",
        "eps = 0.5\n",
        "min_samples = 5\n",
        "dbscan = DBSCAN(eps=eps, min_samples=min_samples)\n",
        "\n",
        "\n",
        "dbscan.fit(X_train)\n",
        "\n",
        "\n",
        "unique_labels = np.unique(dbscan.labels_)\n",
        "print(f\"Unique cluster labels: {unique_labels}\")\n",
        "\n",
        "if len(unique_labels) > 1:\n",
        "    silhouette_avg_dbscan = silhouette_score(X_train, dbscan.labels_)\n",
        "    print(f\"Silhouette score for DBSCAN Clustering: {silhouette_avg_dbscan:.2f}\")\n",
        "else:\n",
        "    print(\"DBSCAN could not find meaningful clusters with the given parameters.\")\n",
        "\n",
        "plt.figure(figsize=(8, 6))\n",
        "plt.hist(dbscan.labels_[dbscan.labels_ != -1], bins=len(unique_labels) - 1, edgecolor='black')\n",
        "plt.xlabel('Cluster label')\n",
        "plt.ylabel('Number of points')\n",
        "plt.title('Number of points in each DBSCAN cluster')\n",
        "plt.xticks(np.arange(min(dbscan.labels_[dbscan.labels_ != -1]), max(dbscan.labels_), 1))\n",
        "plt.show()"
      ],
      "metadata": {
        "colab": {
          "base_uri": "https://localhost:8080/",
          "height": 599
        },
        "id": "TukCCZpUtQUn",
        "outputId": "d82225e1-6ef9-4d55-ccb2-cfd8a7b85d54"
      },
      "execution_count": null,
      "outputs": [
        {
          "output_type": "stream",
          "name": "stdout",
          "text": [
            "Unique cluster labels: [-1  0  1]\n",
            "Silhouette score for DBSCAN Clustering: -0.01\n"
          ]
        },
        {
          "output_type": "display_data",
          "data": {
            "text/plain": [
              "<Figure size 800x600 with 1 Axes>"
            ],
            "image/png": "[encoded data removed]"
          },
          "metadata": {}
        }
      ]
    },
    {
      "cell_type": "markdown",
      "source": [
        "# INFERENCE:"
      ],
      "metadata": {
        "id": "JV87u6VM2wXR"
      }
    },
    {
      "cell_type": "markdown",
      "source": [
        "# Classification Models (Accuracy Scores):\n",
        "**Multinomial Naive Bayes:**\n",
        "Accuracy: 0.67 with TF-IDF, 0.80 with CountVectorizer.\n",
        "Inference: CountVectorizer likely improved accuracy because it captured different feature representations (raw term counts) compared to TF-IDF (weighted term frequencies). This change suggests that for this particular dataset, raw term frequencies might be more informative than weighted frequencies for Naive Bayes classification.\n",
        "\n",
        "**Linear SVC:**\n",
        "Accuracy: 0.66.\n",
        "Inference: Similar performance to Naive Bayes with TF-IDF, indicating that the choice of vectorization method (TF-IDF) had less impact on SVM's performance.\n",
        "\n",
        "**Random Forest:**\n",
        "Accuracy: 0.60.\n",
        "Inference: Random Forest achieved lower accuracy compared to Naive Bayes and SVM, suggesting it might not be as well-suited for this text classification task without further parameter tuning or feature engineering.\n",
        "\n",
        "**Logistic Regression:**\n",
        "Accuracy: 0.67.\n",
        "Inference: Similar performance to Naive Bayes with TF-IDF, indicating robustness to the vectorization method.\n",
        "\n",
        "**Decision Tree:**\n",
        "Accuracy: 0.44.\n",
        "Inference: Lower accuracy compared to other models, indicating that decision trees might struggle with the complexity of the text data and require more sophisticated handling of features.\n",
        "\n",
        "#Clustering (DBSCAN, K-means, Hierarchical):\n",
        "**DBSCAN:**\n",
        "Unique Cluster Labels: [-1, 0, 1].\n",
        "Silhouette Score: -0.01.\n",
        "Inference:\n",
        "Cluster Labels: DBSCAN identified three clusters (-1 for noise, 0, and 1), but the negative silhouette score suggests poor separation and possibly overlapping clusters.\n",
        "\n",
        "**K-means:**\n",
        "TF-IDF:\n",
        "Silhouette Score for k=20: 0.01.\n",
        "Count Vector:\n",
        "Silhouette Score for k=20: 0.53.\n",
        "Inference:\n",
        "TF-IDF vs. Count Vector: K-means clustering performed significantly better with Count Vectorization (silhouette score of 0.53) compared to TF-IDF (silhouette score of 0.01). This suggests that for K-means clustering on this dataset, raw term counts (Count Vectorization) provided more meaningful clusters than weighted term frequencies (TF-IDF).\n",
        "\n",
        "**Hierarchical Clustering:**\n",
        "Average Silhouette Score: 0.51.\n",
        "Inference: Hierarchical clustering achieved a moderate silhouette score, indicating reasonably well-separated clusters compared to DBSCAN and K-means with TF-IDF.\n",
        "Overall Inference:\n",
        "Classification Models: ***Count Vectorization generally improved classification accuracies compared to TF-IDF, especially notable for Naive Bayes***. Logistic Regression and SVM were relatively robust to the choice of vectorization method.\n",
        "\n",
        "Clustering:\n",
        "**K-means with Count Vectorization** provided better-defined clusters compared to TF-IDF.\n",
        "\n",
        "DBSCAN struggled to find meaningful clusters with the given parameters, indicating a need for parameter tuning or consideration of alternative clustering methods.\n",
        "\n",
        "Hierarchical clustering achieved a moderate silhouette score, suggesting reasonable cluster quality compared to other methods.\n",
        "\n",
        "Feature Extraction/Vectorization Impact:\n",
        "\n",
        "The choice between TF-IDF and Count Vectorization significantly influenced both classification and clustering results, highlighting the importance of feature engineering in text analysis tasks.\n",
        "In conclusion, while Count Vectorization generally improved performance across both classification and clustering tasks, hierarchical clustering also showed promising results with moderate cluster quality."
      ],
      "metadata": {
        "id": "N8rbp7ka2V34"
      }
    }
  ]
}